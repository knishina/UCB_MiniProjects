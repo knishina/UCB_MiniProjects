{
 "cells": [
  {
   "cell_type": "markdown",
   "metadata": {},
   "source": [
    "## HW11 -- Adv. SQL\n",
    "\n",
    "### Step3 - Climate Analysis and Exploration\n",
    "    # Create a Jupyter Notebook called climate_analysis.ipynb to complete climate analysis and \n",
    "      data exploration.\n",
    "    # Choose a start date and end date for your trip.  Make sure that your vacation range is approximately\n",
    "      3-15 days total.\n",
    "    # Use SQLAlchemy create_engine to connect to your sqlite database.\n",
    "    # Use SQLalchemy automap_base() to reflect your tables into classes and save a reference to those\n",
    "      classes called Station and Measurement."
   ]
  },
  {
   "cell_type": "code",
   "execution_count": 1,
   "metadata": {
    "collapsed": true
   },
   "outputs": [],
   "source": [
    "# I choose a vacation range of 15 days.  Start of vacation is whenever this gets checked, less 15 days."
   ]
  },
  {
   "cell_type": "code",
   "execution_count": 2,
   "metadata": {
    "collapsed": true
   },
   "outputs": [],
   "source": [
    "import sqlalchemy\n",
    "from sqlalchemy.ext.automap import automap_base\n",
    "from sqlalchemy.orm import Session\n",
    "from sqlalchemy import create_engine, inspect, func"
   ]
  },
  {
   "cell_type": "code",
   "execution_count": 3,
   "metadata": {},
   "outputs": [
    {
     "data": {
      "text/plain": [
       "['measurements', 'station']"
      ]
     },
     "execution_count": 3,
     "metadata": {},
     "output_type": "execute_result"
    }
   ],
   "source": [
    "engine = create_engine(\"sqlite:///hawaii.sqlite\")\n",
    "inspector = inspect(engine)\n",
    "inspector.get_table_names()"
   ]
  },
  {
   "cell_type": "code",
   "execution_count": 4,
   "metadata": {
    "scrolled": true
   },
   "outputs": [
    {
     "name": "stdout",
     "output_type": "stream",
     "text": [
      "id INTEGER\n",
      "station VARCHAR\n",
      "date TEXT\n",
      "prcp FLOAT\n",
      "tobs FLOAT\n"
     ]
    }
   ],
   "source": [
    "col1 = inspector.get_columns(\"measurements\")\n",
    "for c in col1:\n",
    "    print (c[\"name\"], c[\"type\"])"
   ]
  },
  {
   "cell_type": "code",
   "execution_count": 5,
   "metadata": {
    "scrolled": true
   },
   "outputs": [
    {
     "name": "stdout",
     "output_type": "stream",
     "text": [
      "id INTEGER\n",
      "station VARCHAR\n",
      "name VARCHAR\n",
      "latitude FLOAT\n",
      "longitude FLOAT\n",
      "elevation FLOAT\n"
     ]
    }
   ],
   "source": [
    "col2 = inspector.get_columns(\"station\")\n",
    "for c in col2:\n",
    "    print (c[\"name\"], c[\"type\"])"
   ]
  },
  {
   "cell_type": "code",
   "execution_count": 6,
   "metadata": {
    "collapsed": true
   },
   "outputs": [],
   "source": [
    "Base = automap_base()\n",
    "Base.prepare(engine, reflect = True)\n",
    "Measurements = Base.classes.measurements\n",
    "Station = Base.classes.station\n",
    "session = Session(engine)"
   ]
  },
  {
   "cell_type": "markdown",
   "metadata": {},
   "source": [
    "### Precipitation Analysis\n",
    "    # Design a query to retrieve the last 12 months of precipitation data.\n",
    "    # Select only the date and prcp values.\n",
    "    # Load the query results into a pandas DataFrame and set the index to the date column.\n",
    "    # Plot the results.\n",
    "    # Use pandas to print the summary statistics for the precipitation data."
   ]
  },
  {
   "cell_type": "code",
   "execution_count": 7,
   "metadata": {
    "collapsed": true
   },
   "outputs": [],
   "source": [
    "import datetime as dt\n",
    "import numpy as np\n",
    "import pandas as pd\n",
    "import matplotlib.pyplot as plt"
   ]
  },
  {
   "cell_type": "code",
   "execution_count": 8,
   "metadata": {},
   "outputs": [
    {
     "name": "stdout",
     "output_type": "stream",
     "text": [
      "2017-04-24\n"
     ]
    }
   ],
   "source": [
    "date_delta = dt.date.today() - dt.timedelta(days = 365)\n",
    "print (date_delta)"
   ]
  },
  {
   "cell_type": "code",
   "execution_count": 9,
   "metadata": {},
   "outputs": [
    {
     "data": {
      "text/html": [
       "<div>\n",
       "<style>\n",
       "    .dataframe thead tr:only-child th {\n",
       "        text-align: right;\n",
       "    }\n",
       "\n",
       "    .dataframe thead th {\n",
       "        text-align: left;\n",
       "    }\n",
       "\n",
       "    .dataframe tbody tr th {\n",
       "        vertical-align: top;\n",
       "    }\n",
       "</style>\n",
       "<table border=\"1\" class=\"dataframe\">\n",
       "  <thead>\n",
       "    <tr style=\"text-align: right;\">\n",
       "      <th></th>\n",
       "      <th>Date</th>\n",
       "      <th>Precipitation</th>\n",
       "    </tr>\n",
       "  </thead>\n",
       "  <tbody>\n",
       "    <tr>\n",
       "      <th>0</th>\n",
       "      <td>2017-04-24</td>\n",
       "      <td>0.06</td>\n",
       "    </tr>\n",
       "    <tr>\n",
       "      <th>1</th>\n",
       "      <td>2017-04-25</td>\n",
       "      <td>0.00</td>\n",
       "    </tr>\n",
       "    <tr>\n",
       "      <th>2</th>\n",
       "      <td>2017-04-26</td>\n",
       "      <td>0.39</td>\n",
       "    </tr>\n",
       "    <tr>\n",
       "      <th>3</th>\n",
       "      <td>2017-04-27</td>\n",
       "      <td>0.42</td>\n",
       "    </tr>\n",
       "    <tr>\n",
       "      <th>4</th>\n",
       "      <td>2017-04-28</td>\n",
       "      <td>4.24</td>\n",
       "    </tr>\n",
       "  </tbody>\n",
       "</table>\n",
       "</div>"
      ],
      "text/plain": [
       "         Date  Precipitation\n",
       "0  2017-04-24           0.06\n",
       "1  2017-04-25           0.00\n",
       "2  2017-04-26           0.39\n",
       "3  2017-04-27           0.42\n",
       "4  2017-04-28           4.24"
      ]
     },
     "execution_count": 9,
     "metadata": {},
     "output_type": "execute_result"
    }
   ],
   "source": [
    "part_3a = session.query(Measurements.date, func.sum(Measurements.prcp)).\\\n",
    "    filter(Measurements.date >= date_delta).\\\n",
    "    group_by(Measurements.date).all()\n",
    "\n",
    "data_3a = []\n",
    "names3a = ['Date', 'Precipitation']\n",
    "for p in part_3a:\n",
    "    (date, inches_per_date) = p\n",
    "    data_3a.append(p)\n",
    "    \n",
    "part3a_df = pd.DataFrame(data_3a, columns=names3a)\n",
    "part3a_df.head()"
   ]
  },
  {
   "cell_type": "code",
   "execution_count": 36,
   "metadata": {
    "scrolled": true
   },
   "outputs": [
    {
     "data": {
      "image/png": "[encoded data removed]",
      "text/plain": [
       "<matplotlib.figure.Figure at 0x11015fb38>"
      ]
     },
     "metadata": {},
     "output_type": "display_data"
    }
   ],
   "source": [
    "list_stuff = [\"\", part3a_df[\"Date\"][0], part3a_df[\"Date\"][20], part3a_df[\"Date\"][40], part3a_df[\"Date\"][60], \\\n",
    "              part3a_df[\"Date\"][80], part3a_df[\"Date\"][100], part3a_df[\"Date\"][120]]\n",
    "plt.figure(figsize = (10, 7))\n",
    "ax = plt.subplot()\n",
    "ax.bar(range(len(part3a_df[\"Date\"])), part3a_df[\"Precipitation\"], label = \"Precipitation\")\n",
    "ax.set_xticklabels(list_stuff, rotation = 45)\n",
    "plt.ylabel(\"Inches\")\n",
    "plt.xlabel(\"Date\")\n",
    "plt.show()"
   ]
  },
  {
   "cell_type": "markdown",
   "metadata": {},
   "source": [
    "### Station Analysis\n",
    "    # Design a query to calculate the total number of stations.\n",
    "    # Design a query to find the most active stations.\n",
    "        # List the stations and observation counts in descending order.\n",
    "        # Which station has the highest number of observations?\n",
    "    # Design a query to retrieve the last 12 months of temperature observation data (tobs).\n",
    "        # Filter by the station with the highest number of observations.\n",
    "        # Plot the results as a histogram with bins = 12."
   ]
  },
  {
   "cell_type": "code",
   "execution_count": 11,
   "metadata": {},
   "outputs": [
    {
     "data": {
      "text/plain": [
       "[(9)]"
      ]
     },
     "execution_count": 11,
     "metadata": {},
     "output_type": "execute_result"
    }
   ],
   "source": [
    "# Total number of stations.\n",
    "session.query(func.count(Station.station)).all()"
   ]
  },
  {
   "cell_type": "code",
   "execution_count": 12,
   "metadata": {
    "scrolled": true
   },
   "outputs": [
    {
     "data": {
      "text/plain": [
       "[('USC00519281', 2772),\n",
       " ('USC00513117', 2696),\n",
       " ('USC00519397', 2685),\n",
       " ('USC00519523', 2572),\n",
       " ('USC00516128', 2484),\n",
       " ('USC00514830', 1937),\n",
       " ('USC00511918', 1932),\n",
       " ('USC00517948', 683),\n",
       " ('USC00518838', 342)]"
      ]
     },
     "execution_count": 12,
     "metadata": {},
     "output_type": "execute_result"
    }
   ],
   "source": [
    "# Find the most active stations--list in descending order.\n",
    "session.query(Measurements.station, func.count(Measurements.prcp)).\\\n",
    "    group_by(Measurements.station).\\\n",
    "    order_by(func.count(Measurements.prcp).desc()).all()"
   ]
  },
  {
   "cell_type": "code",
   "execution_count": 13,
   "metadata": {},
   "outputs": [
    {
     "data": {
      "text/plain": [
       "('USC00519281', 2772)"
      ]
     },
     "execution_count": 13,
     "metadata": {},
     "output_type": "execute_result"
    }
   ],
   "source": [
    "# Find the most active station.\n",
    "session.query(Measurements.station, func.count(Measurements.prcp)).\\\n",
    "    group_by(Measurements.station).\\\n",
    "    order_by(func.count(Measurements.prcp).desc()).first()"
   ]
  },
  {
   "cell_type": "code",
   "execution_count": 14,
   "metadata": {
    "scrolled": true
   },
   "outputs": [
    {
     "data": {
      "text/html": [
       "<div>\n",
       "<style>\n",
       "    .dataframe thead tr:only-child th {\n",
       "        text-align: right;\n",
       "    }\n",
       "\n",
       "    .dataframe thead th {\n",
       "        text-align: left;\n",
       "    }\n",
       "\n",
       "    .dataframe tbody tr th {\n",
       "        vertical-align: top;\n",
       "    }\n",
       "</style>\n",
       "<table border=\"1\" class=\"dataframe\">\n",
       "  <thead>\n",
       "    <tr style=\"text-align: right;\">\n",
       "      <th></th>\n",
       "      <th>Date</th>\n",
       "      <th>Average Temperature</th>\n",
       "    </tr>\n",
       "  </thead>\n",
       "  <tbody>\n",
       "    <tr>\n",
       "      <th>0</th>\n",
       "      <td>2017-04-24</td>\n",
       "      <td>68.0</td>\n",
       "    </tr>\n",
       "    <tr>\n",
       "      <th>1</th>\n",
       "      <td>2017-04-25</td>\n",
       "      <td>72.0</td>\n",
       "    </tr>\n",
       "    <tr>\n",
       "      <th>2</th>\n",
       "      <td>2017-04-26</td>\n",
       "      <td>74.0</td>\n",
       "    </tr>\n",
       "    <tr>\n",
       "      <th>3</th>\n",
       "      <td>2017-04-27</td>\n",
       "      <td>70.0</td>\n",
       "    </tr>\n",
       "    <tr>\n",
       "      <th>4</th>\n",
       "      <td>2017-04-28</td>\n",
       "      <td>67.0</td>\n",
       "    </tr>\n",
       "  </tbody>\n",
       "</table>\n",
       "</div>"
      ],
      "text/plain": [
       "         Date  Average Temperature\n",
       "0  2017-04-24                 68.0\n",
       "1  2017-04-25                 72.0\n",
       "2  2017-04-26                 74.0\n",
       "3  2017-04-27                 70.0\n",
       "4  2017-04-28                 67.0"
      ]
     },
     "execution_count": 14,
     "metadata": {},
     "output_type": "execute_result"
    }
   ],
   "source": [
    "# Find the last 12 months of temperature observation data (tobs).  Filter by station with the highest number\n",
    "# of observations.\n",
    "part_3b = session.query(Measurements.date, func.avg(Measurements.tobs)).\\\n",
    "    filter(Measurements.date >= date_delta).\\\n",
    "    filter(Measurements.station == \"USC00519281\").\\\n",
    "    group_by(Measurements.date).all()\n",
    "\n",
    "data_3b = []\n",
    "names3b = [\"Date\", \"Average Temperature\"]\n",
    "for p in part_3b:\n",
    "    (date, avg_temp) = p\n",
    "    data_3b.append(p)\n",
    "    \n",
    "part3b_df = pd.DataFrame(data_3b, columns=names3b)\n",
    "part3b_df.head()"
   ]
  },
  {
   "cell_type": "code",
   "execution_count": 15,
   "metadata": {
    "scrolled": false
   },
   "outputs": [
    {
     "data": {
      "image/png": "[encoded data removed]",
      "text/plain": [
       "<matplotlib.figure.Figure at 0x10c5da240>"
      ]
     },
     "metadata": {},
     "output_type": "display_data"
    }
   ],
   "source": [
    "plt.hist(part3b_df[\"Average Temperature\"], bins = 12, label = \"tobs\")\n",
    "plt.ylabel(\"Frequency\")\n",
    "plt.legend()\n",
    "plt.show()"
   ]
  },
  {
   "cell_type": "markdown",
   "metadata": {},
   "source": [
    "### Temperature Analysis\n",
    "    # Write a function called calc_temps that will accept a start date and end date in the format %y-%m-%d\n",
    "      and return the minimum, average, and maximum temperatures for that range of dates.\n",
    "    # Use the calc_temps function to calculate the min, avg, and max temperatures for your trip using the\n",
    "      matching dates from the previous year (ie: use \"2017-01-01\" if your trip start date was (2018-01-01\")\n",
    "    # Plot the min, avg, and max temperature from your previous query as a bar chart.\n",
    "        # Use the average temperature as the bar height.\n",
    "        # Use the peak-to-peak (tmax-tmin) value as the y error bar (yerr).\n",
    "       "
   ]
  },
  {
   "cell_type": "code",
   "execution_count": 16,
   "metadata": {
    "scrolled": true
   },
   "outputs": [
    {
     "data": {
      "text/html": [
       "<div>\n",
       "<style>\n",
       "    .dataframe thead tr:only-child th {\n",
       "        text-align: right;\n",
       "    }\n",
       "\n",
       "    .dataframe thead th {\n",
       "        text-align: left;\n",
       "    }\n",
       "\n",
       "    .dataframe tbody tr th {\n",
       "        vertical-align: top;\n",
       "    }\n",
       "</style>\n",
       "<table border=\"1\" class=\"dataframe\">\n",
       "  <thead>\n",
       "    <tr style=\"text-align: right;\">\n",
       "      <th></th>\n",
       "      <th>Min</th>\n",
       "      <th>Avg</th>\n",
       "      <th>Max</th>\n",
       "    </tr>\n",
       "  </thead>\n",
       "  <tbody>\n",
       "    <tr>\n",
       "      <th>0</th>\n",
       "      <td>67.0</td>\n",
       "      <td>73.344828</td>\n",
       "      <td>83.0</td>\n",
       "    </tr>\n",
       "  </tbody>\n",
       "</table>\n",
       "</div>"
      ],
      "text/plain": [
       "    Min        Avg   Max\n",
       "0  67.0  73.344828  83.0"
      ]
     },
     "execution_count": 16,
     "metadata": {},
     "output_type": "execute_result"
    }
   ],
   "source": [
    "trip_end = dt.date.today() - dt.timedelta(days = 365)\n",
    "trip_start = (dt.date.today() - dt.timedelta(days = 15)) - dt.timedelta(days = 365)\n",
    "\n",
    "sel = [func.min(Measurements.tobs),\n",
    "      func.avg(Measurements.tobs),\n",
    "      func.max(Measurements.tobs)]\n",
    "\n",
    "part_3c = session.query(* sel).\\\n",
    "    filter(Measurements.date >= trip_start).\\\n",
    "    filter(Measurements.date <= trip_end).\\\n",
    "    all()\n",
    "\n",
    "data_3c = []\n",
    "names3c = ['Min', 'Avg', 'Max']\n",
    "for p in part_3c:\n",
    "    (min, avg, max) = p\n",
    "    data_3c.append(p)\n",
    "    \n",
    "part3c_df = pd.DataFrame(data_3c, columns=names3c)\n",
    "part3c_df.head(100)"
   ]
  },
  {
   "cell_type": "code",
   "execution_count": 17,
   "metadata": {
    "scrolled": true
   },
   "outputs": [
    {
     "data": {
      "image/png": "[encoded data removed]",
      "text/plain": [
       "<matplotlib.figure.Figure at 0x10fd83588>"
      ]
     },
     "metadata": {},
     "output_type": "display_data"
    }
   ],
   "source": [
    "# This is looking at the average temperature over a fifteen day span at each station.\n",
    "ax = plt.subplot()\n",
    "min_yerr = part3c_df[\"Avg\"] - part3c_df[\"Min\"]\n",
    "max_yerr = part3c_df[\"Max\"] - part3c_df[\"Avg\"]\n",
    "ax.bar(range(1), part3c_df[\"Avg\"], yerr = [min_yerr, max_yerr], capsize = 3)\n",
    "ax.set_xticks(range(1))\n",
    "ax.set_xticklabels([\"Average Temperature (15 day vacation)\"])\n",
    "plt.ylabel(\"Average Observed Temperature (oF)\")\n",
    "plt.show()"
   ]
  },
  {
   "cell_type": "markdown",
   "metadata": {},
   "source": [
    "### Optional Recommended Analysis\n",
    "    # The following are optional challenge queries.  These are highly recommended to attempt, but not\n",
    "      required for the homework.\n",
    "          # Calculate the rainfall per weather station using the previous year's matching dates.\n",
    "          # Calculate the daily normals.  Normals are the averages for min, avg, and max temperatures.\n",
    "              # Create a function called daily_normals that will calculate the daily normals for a \n",
    "                specific date.  This date string will be in the format %m-%d.  Be sure to use all \n",
    "                historic tobs that match that date string.\n",
    "              # Create a list of dates for your trip in the format %m-%d.  Use the daily_normals\n",
    "                function to calculate the normals for each date string and append the results to a list.\n",
    "              # Load the list of daily normals into a Pandas DataFrame and set the index equal to the date.\n",
    "              # Use Pandas to plot an area plot (stacked = False) for the daily normals."
   ]
  },
  {
   "cell_type": "code",
   "execution_count": 18,
   "metadata": {
    "scrolled": false
   },
   "outputs": [
    {
     "data": {
      "text/plain": [
       "[('USC00513117', 4.999999999999999),\n",
       " ('USC00514830', 2.6100000000000003),\n",
       " ('USC00516128', 10.97),\n",
       " ('USC00517948', 0.0),\n",
       " ('USC00519281', 10.419999999999998),\n",
       " ('USC00519397', 0.9400000000000002),\n",
       " ('USC00519523', 3.5199999999999996)]"
      ]
     },
     "execution_count": 18,
     "metadata": {},
     "output_type": "execute_result"
    }
   ],
   "source": [
    "# Calculate rainfall per weather station using the previous year's matching dates.\n",
    "session.query(Measurements.station, func.sum(Measurements.prcp)).\\\n",
    "    filter(Measurements.date >= trip_start).\\\n",
    "    filter(Measurements.date <= trip_end).\\\n",
    "    group_by(Measurements.station).all()\n",
    "    "
   ]
  },
  {
   "cell_type": "code",
   "execution_count": 19,
   "metadata": {
    "scrolled": true
   },
   "outputs": [
    {
     "data": {
      "text/plain": [
       "[('2010-04-22', 69.0),\n",
       " ('2011-04-22', 73.0),\n",
       " ('2012-04-22', 65.0),\n",
       " ('2013-04-22', 69.0),\n",
       " ('2014-04-22', 71.0),\n",
       " ('2015-04-22', 66.0),\n",
       " ('2016-04-22', 69.0),\n",
       " ('2017-04-22', 72.0)]"
      ]
     },
     "execution_count": 19,
     "metadata": {},
     "output_type": "execute_result"
    }
   ],
   "source": [
    "session.query(Measurements.date, func.min(Measurements.tobs)).\\\n",
    "        filter(func.strftime(\"%m\", Measurements.date) == \"04\").\\\n",
    "        filter(func.strftime(\"%d\", Measurements.date) == \"22\").\\\n",
    "        group_by(Measurements.date).all()"
   ]
  },
  {
   "cell_type": "code",
   "execution_count": 20,
   "metadata": {
    "scrolled": false
   },
   "outputs": [
    {
     "name": "stdout",
     "output_type": "stream",
     "text": [
      "[[(69.0,), (71.0,), (68.0,), (67.0,), (69.0,), (69.0,), (69.0,), (68.0,)], [(66.0,), (71.0,), (65.0,), (70.0,), (69.0,), (67.0,), (68.0,), (70.0,)], [(69.0,), (73.0,), (65.0,), (69.0,), (71.0,), (66.0,), (69.0,), (72.0,)], [(69.0,), (66.0,), (70.0,), (69.0,), (68.0,), (72.0,), (68.0,), (69.0,)], [(69.0,), (66.0,), (64.0,), (68.0,), (69.0,), (72.0,), (69.0,), (69.0,)], [(70.0,), (66.0,), (69.0,), (65.0,), (72.0,), (68.0,), (67.0,), (67.0,)], [(68.0,), (67.0,), (69.0,), (69.0,), (70.0,), (72.0,), (68.0,), (68.0,)], [(65.0,), (73.0,), (71.0,), (65.0,), (69.0,), (70.0,), (66.0,), (67.0,)], [(64.0,), (70.0,), (71.0,), (63.0,), (70.0,), (70.0,), (72.0,), (69.0,)], [(61.0,), (67.0,), (68.0,), (68.0,), (68.0,), (68.0,), (70.0,), (70.0,)], [(65.0,), (70.0,), (68.0,), (70.0,), (68.0,), (69.0,), (71.0,), (70.0,)], [(68.0,), (64.0,), (64.0,), (70.0,), (67.0,), (69.0,), (71.0,), (69.0,)], [(65.0,), (72.0,), (68.0,), (71.0,), (65.0,), (69.0,), (70.0,), (69.0,)], [(68.0,), (70.0,), (65.0,), (66.0,), (68.0,), (69.0,), (67.0,), (70.0,)], [(67.0,), (72.0,), (64.0,), (66.0,), (64.0,), (64.0,), (68.0,), (67.0,)], [(68.0,), (74.0,), (64.0,), (62.0,), (67.0,), (64.0,), (71.0,), (69.0,)]]\n"
     ]
    }
   ],
   "source": [
    "# Find average mins during vacation.\n",
    "data = []\n",
    "foo = int(dt.date.today().strftime(\"%d\"))\n",
    "ffo = dt.date.today().strftime(\"%m\")\n",
    "\n",
    "for c in range(16):\n",
    "    if foo-c >= 10:\n",
    "        mins = session.query(func.min(Measurements.tobs)).\\\n",
    "            filter(func.strftime(\"%m\", Measurements.date) == ffo).\\\n",
    "            filter(func.strftime(\"%d\", Measurements.date) == f\"{foo-c}\").\\\n",
    "            group_by(Measurements.date).all()\n",
    "        data.append(mins)\n",
    "    elif foo-c < 10:\n",
    "        moo = f\"0{foo-c}\"\n",
    "        mins = session.query(func.min(Measurements.tobs)).\\\n",
    "            filter(func.strftime(\"%m\", Measurements.date) == ffo).\\\n",
    "            filter(func.strftime(\"%d\", Measurements.date) == moo).\\\n",
    "            group_by(Measurements.date).all()\n",
    "        data.append(mins)\n",
    "        \n",
    "print (data)"
   ]
  },
  {
   "cell_type": "code",
   "execution_count": 21,
   "metadata": {},
   "outputs": [
    {
     "name": "stdout",
     "output_type": "stream",
     "text": [
      "[68.75, 68.25, 69.25, 68.875, 68.25, 68.0, 68.875, 68.25, 68.625, 67.5, 68.875, 67.75, 68.625, 67.875, 66.5, 67.375]\n"
     ]
    }
   ],
   "source": [
    "average_min = []\n",
    "for x in data:\n",
    "    f = np.mean(x)\n",
    "    average_min.append(f)\n",
    "print (average_min)"
   ]
  },
  {
   "cell_type": "code",
   "execution_count": 22,
   "metadata": {},
   "outputs": [
    {
     "name": "stdout",
     "output_type": "stream",
     "text": [
      "[76.75, 76.625, 76.125, 75.25, 76.125, 76.0, 75.0, 74.75, 75.75, 75.875, 76.375, 75.25, 75.5, 76.75, 75.125, 75.375]\n"
     ]
    }
   ],
   "source": [
    "# Find average maxs during vacation.\n",
    "data1 = []\n",
    "\n",
    "for c in range(16):\n",
    "    if foo-c >= 10:\n",
    "        maxs = session.query(func.max(Measurements.tobs)).\\\n",
    "            filter(func.strftime(\"%m\", Measurements.date) == ffo).\\\n",
    "            filter(func.strftime(\"%d\", Measurements.date) == f\"{foo-c}\").\\\n",
    "            group_by(Measurements.date).all()\n",
    "        data1.append(maxs)\n",
    "    elif foo-c < 10:\n",
    "        moo = f\"0{foo-c}\"\n",
    "        maxs = session.query(func.max(Measurements.tobs)).\\\n",
    "            filter(func.strftime(\"%m\", Measurements.date) == ffo).\\\n",
    "            filter(func.strftime(\"%d\", Measurements.date) == moo).\\\n",
    "            group_by(Measurements.date).all()\n",
    "        data1.append(maxs)\n",
    "        \n",
    "average_max = []\n",
    "for x in data1:\n",
    "    f = np.mean(x)\n",
    "    average_max.append(f)\n",
    "print (average_max)"
   ]
  },
  {
   "cell_type": "code",
   "execution_count": 23,
   "metadata": {},
   "outputs": [
    {
     "name": "stdout",
     "output_type": "stream",
     "text": [
      "[73.143601190476204, 73.148809523809518, 72.600595238095238, 72.372420634920644, 72.553869047619045, 72.238392857142856, 72.466369047619054, 71.752827380952368, 71.772767857142853, 72.013888888888886, 72.788690476190482, 71.833829365079367, 72.258432539682545, 72.482440476190476, 71.479910714285722, 71.738095238095241]\n"
     ]
    }
   ],
   "source": [
    "# Find the average of averages during vacation.\n",
    "data2 = []\n",
    "\n",
    "for c in range(16):\n",
    "    if foo-c >= 10:\n",
    "        aves = session.query(func.avg(Measurements.tobs)).\\\n",
    "            filter(func.strftime(\"%m\", Measurements.date) == ffo).\\\n",
    "            filter(func.strftime(\"%d\", Measurements.date) == f\"{foo-c}\").\\\n",
    "            group_by(Measurements.date).\\\n",
    "            all()\n",
    "        data2.append(aves)\n",
    "    elif foo-c < 10:\n",
    "        moo = f\"0{foo-c}\"\n",
    "        aves = session.query(func.avg(Measurements.tobs)).\\\n",
    "            filter(func.strftime(\"%m\", Measurements.date) == ffo).\\\n",
    "            filter(func.strftime(\"%d\", Measurements.date) == moo).\\\n",
    "            group_by(Measurements.date).\\\n",
    "            all()\n",
    "        data2.append(aves)\n",
    "\n",
    "average_ave = []\n",
    "for x in data2:\n",
    "    f = np.mean(x)\n",
    "    average_ave.append(f)\n",
    "print (average_ave)"
   ]
  },
  {
   "cell_type": "code",
   "execution_count": 24,
   "metadata": {
    "scrolled": true
   },
   "outputs": [
    {
     "name": "stdout",
     "output_type": "stream",
     "text": [
      "['04-24', '04-23', '04-22', '04-21', '04-20', '04-19', '04-18', '04-17', '04-16', '04-15', '04-14', '04-13', '04-12', '04-11', '04-10', '04-09']\n"
     ]
    }
   ],
   "source": [
    "dates = [(date_delta - dt.timedelta(days = x)).strftime(\"%m-%d\") for x in range(16)]\n",
    "print (dates)"
   ]
  },
  {
   "cell_type": "code",
   "execution_count": 25,
   "metadata": {
    "scrolled": true
   },
   "outputs": [
    {
     "data": {
      "text/html": [
       "<div>\n",
       "<style>\n",
       "    .dataframe thead tr:only-child th {\n",
       "        text-align: right;\n",
       "    }\n",
       "\n",
       "    .dataframe thead th {\n",
       "        text-align: left;\n",
       "    }\n",
       "\n",
       "    .dataframe tbody tr th {\n",
       "        vertical-align: top;\n",
       "    }\n",
       "</style>\n",
       "<table border=\"1\" class=\"dataframe\">\n",
       "  <thead>\n",
       "    <tr style=\"text-align: right;\">\n",
       "      <th></th>\n",
       "      <th>Averages</th>\n",
       "      <th>Dates</th>\n",
       "      <th>Maximums</th>\n",
       "      <th>Minimums</th>\n",
       "    </tr>\n",
       "  </thead>\n",
       "  <tbody>\n",
       "    <tr>\n",
       "      <th>0</th>\n",
       "      <td>73.143601</td>\n",
       "      <td>04-24</td>\n",
       "      <td>76.750</td>\n",
       "      <td>68.750</td>\n",
       "    </tr>\n",
       "    <tr>\n",
       "      <th>1</th>\n",
       "      <td>73.148810</td>\n",
       "      <td>04-23</td>\n",
       "      <td>76.625</td>\n",
       "      <td>68.250</td>\n",
       "    </tr>\n",
       "    <tr>\n",
       "      <th>2</th>\n",
       "      <td>72.600595</td>\n",
       "      <td>04-22</td>\n",
       "      <td>76.125</td>\n",
       "      <td>69.250</td>\n",
       "    </tr>\n",
       "    <tr>\n",
       "      <th>3</th>\n",
       "      <td>72.372421</td>\n",
       "      <td>04-21</td>\n",
       "      <td>75.250</td>\n",
       "      <td>68.875</td>\n",
       "    </tr>\n",
       "    <tr>\n",
       "      <th>4</th>\n",
       "      <td>72.553869</td>\n",
       "      <td>04-20</td>\n",
       "      <td>76.125</td>\n",
       "      <td>68.250</td>\n",
       "    </tr>\n",
       "    <tr>\n",
       "      <th>5</th>\n",
       "      <td>72.238393</td>\n",
       "      <td>04-19</td>\n",
       "      <td>76.000</td>\n",
       "      <td>68.000</td>\n",
       "    </tr>\n",
       "    <tr>\n",
       "      <th>6</th>\n",
       "      <td>72.466369</td>\n",
       "      <td>04-18</td>\n",
       "      <td>75.000</td>\n",
       "      <td>68.875</td>\n",
       "    </tr>\n",
       "    <tr>\n",
       "      <th>7</th>\n",
       "      <td>71.752827</td>\n",
       "      <td>04-17</td>\n",
       "      <td>74.750</td>\n",
       "      <td>68.250</td>\n",
       "    </tr>\n",
       "    <tr>\n",
       "      <th>8</th>\n",
       "      <td>71.772768</td>\n",
       "      <td>04-16</td>\n",
       "      <td>75.750</td>\n",
       "      <td>68.625</td>\n",
       "    </tr>\n",
       "    <tr>\n",
       "      <th>9</th>\n",
       "      <td>72.013889</td>\n",
       "      <td>04-15</td>\n",
       "      <td>75.875</td>\n",
       "      <td>67.500</td>\n",
       "    </tr>\n",
       "    <tr>\n",
       "      <th>10</th>\n",
       "      <td>72.788690</td>\n",
       "      <td>04-14</td>\n",
       "      <td>76.375</td>\n",
       "      <td>68.875</td>\n",
       "    </tr>\n",
       "    <tr>\n",
       "      <th>11</th>\n",
       "      <td>71.833829</td>\n",
       "      <td>04-13</td>\n",
       "      <td>75.250</td>\n",
       "      <td>67.750</td>\n",
       "    </tr>\n",
       "    <tr>\n",
       "      <th>12</th>\n",
       "      <td>72.258433</td>\n",
       "      <td>04-12</td>\n",
       "      <td>75.500</td>\n",
       "      <td>68.625</td>\n",
       "    </tr>\n",
       "    <tr>\n",
       "      <th>13</th>\n",
       "      <td>72.482440</td>\n",
       "      <td>04-11</td>\n",
       "      <td>76.750</td>\n",
       "      <td>67.875</td>\n",
       "    </tr>\n",
       "    <tr>\n",
       "      <th>14</th>\n",
       "      <td>71.479911</td>\n",
       "      <td>04-10</td>\n",
       "      <td>75.125</td>\n",
       "      <td>66.500</td>\n",
       "    </tr>\n",
       "    <tr>\n",
       "      <th>15</th>\n",
       "      <td>71.738095</td>\n",
       "      <td>04-09</td>\n",
       "      <td>75.375</td>\n",
       "      <td>67.375</td>\n",
       "    </tr>\n",
       "  </tbody>\n",
       "</table>\n",
       "</div>"
      ],
      "text/plain": [
       "     Averages  Dates  Maximums  Minimums\n",
       "0   73.143601  04-24    76.750    68.750\n",
       "1   73.148810  04-23    76.625    68.250\n",
       "2   72.600595  04-22    76.125    69.250\n",
       "3   72.372421  04-21    75.250    68.875\n",
       "4   72.553869  04-20    76.125    68.250\n",
       "5   72.238393  04-19    76.000    68.000\n",
       "6   72.466369  04-18    75.000    68.875\n",
       "7   71.752827  04-17    74.750    68.250\n",
       "8   71.772768  04-16    75.750    68.625\n",
       "9   72.013889  04-15    75.875    67.500\n",
       "10  72.788690  04-14    76.375    68.875\n",
       "11  71.833829  04-13    75.250    67.750\n",
       "12  72.258433  04-12    75.500    68.625\n",
       "13  72.482440  04-11    76.750    67.875\n",
       "14  71.479911  04-10    75.125    66.500\n",
       "15  71.738095  04-09    75.375    67.375"
      ]
     },
     "execution_count": 25,
     "metadata": {},
     "output_type": "execute_result"
    }
   ],
   "source": [
    "df = pd.DataFrame({\n",
    "    \"Dates\": dates,\n",
    "    \"Minimums\": average_min,\n",
    "    \"Maximums\": average_max,\n",
    "    \"Averages\": average_ave\n",
    "})\n",
    "\n",
    "df.head(16)"
   ]
  },
  {
   "cell_type": "code",
   "execution_count": 26,
   "metadata": {},
   "outputs": [
    {
     "data": {
      "image/png": "[encoded data removed]",
      "text/plain": [
       "<matplotlib.figure.Figure at 0x10fe8b128>"
      ]
     },
     "metadata": {},
     "output_type": "display_data"
    }
   ],
   "source": [
    "plt.figure(figsize = (10, 7))\n",
    "ax = plt.subplot()\n",
    "ax.fill_between(range(len(df[\"Dates\"])), df[\"Minimums\"], df[\"Maximums\"], alpha = 0.2, color = \"grey\", label = \"tmin/max\")\n",
    "ax.plot(range(len(df[\"Dates\"])), df[\"Averages\"], label = \"tave\")\n",
    "ax.set_yticks(range(64, 78))\n",
    "ax.set_xticks(range(len(df[\"Dates\"])))\n",
    "ax.set_xticklabels(df[\"Dates\"], rotation = 90)\n",
    "plt.xlabel(\"Dates\")\n",
    "plt.ylabel(\"Temperatures (oF)\")\n",
    "plt.legend(loc = \"lower left\")\n",
    "plt.grid()\n",
    "plt.title(\"Normalized values for Month/Date During Vacation\")\n",
    "plt.show()"
   ]
  }
 ],
 "metadata": {
  "kernelspec": {
   "display_name": "Python [conda env:PythonData]",
   "language": "python",
   "name": "conda-env-PythonData-py"
  },
  "language_info": {
   "codemirror_mode": {
    "name": "ipython",
    "version": 3
   },
   "file_extension": ".py",
   "mimetype": "text/x-python",
   "name": "python",
   "nbconvert_exporter": "python",
   "pygments_lexer": "ipython3",
   "version": "3.6.3"
  }
 },
 "nbformat": 4,
 "nbformat_minor": 2
}
