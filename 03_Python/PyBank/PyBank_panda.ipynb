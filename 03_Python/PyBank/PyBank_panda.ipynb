{
 "cells": [
  {
   "cell_type": "code",
   "execution_count": 1,
   "metadata": {
    "collapsed": true
   },
   "outputs": [],
   "source": [
    "## OPTION #1.  Return the following values:\n",
    "\t# The total number of months included in the dataset.\n",
    "\t# The total amount of revenue gained over the entire period.\n",
    "\t# The average change in revenue between months over the entire period.\n",
    "\t# The greatest increase in revenue (date and amount) over the entire period.\n",
    "\t# The greatest decrease in revenue (date and amount) over the entire period."
   ]
  },
  {
   "cell_type": "code",
   "execution_count": 2,
   "metadata": {
    "collapsed": true
   },
   "outputs": [],
   "source": [
    "import pandas as pd"
   ]
  },
  {
   "cell_type": "code",
   "execution_count": 3,
   "metadata": {
    "collapsed": true
   },
   "outputs": [],
   "source": [
    "def pybank():\n",
    "    datafile =input(\"What file would you like to evaluate? (format: raw_data/budget_data_x.csv)\")\n",
    "    # Substitute \"x\" with number.\n",
    "    return datafile"
   ]
  },
  {
   "cell_type": "code",
   "execution_count": 4,
   "metadata": {
    "scrolled": true
   },
   "outputs": [
    {
     "name": "stdout",
     "output_type": "stream",
     "text": [
      "What file would you like to evaluate? (format: raw_data/budget_data_x.csv)raw_data/budget_data_1.csv\n"
     ]
    }
   ],
   "source": [
    "datafile = pybank()\n",
    "datafile_pd = pd.read_csv(datafile)"
   ]
  },
  {
   "cell_type": "code",
   "execution_count": 12,
   "metadata": {
    "collapsed": true
   },
   "outputs": [],
   "source": [
    "new = datafile_pd[\"Date\"].unique()\n",
    "number_of_months = len(new)"
   ]
  },
  {
   "cell_type": "code",
   "execution_count": 13,
   "metadata": {
    "collapsed": true
   },
   "outputs": [],
   "source": [
    "total_revenue = int(datafile_pd[\"Revenue\"].sum())"
   ]
  },
  {
   "cell_type": "code",
   "execution_count": 14,
   "metadata": {
    "collapsed": true,
    "scrolled": true
   },
   "outputs": [],
   "source": [
    "Revenue = datafile_pd[\"Revenue\"]\n",
    "differences_list = [0]\n",
    "for index, element in enumerate(Revenue):\n",
    "    current_value = element\n",
    "    next_value = Revenue[(index + 1) % len(Revenue)]\n",
    "    difference = current_value - next_value\n",
    "    differences_list.append(difference)"
   ]
  },
  {
   "cell_type": "code",
   "execution_count": 8,
   "metadata": {},
   "outputs": [
    {
     "name": "stdout",
     "output_type": "stream",
     "text": [
      "-1837235.0\n"
     ]
    }
   ],
   "source": [
    "greatest_inc = min(differences_list)\n",
    "print (greatest_inc)\n",
    "greatest_increase = int(greatest_inc)\n",
    "\n",
    "for value in differences_list:\n",
    "    if greatest_increase == value:\n",
    "        greatest_location = differences_list.index(greatest_increase)\n",
    "date_greatest = datafile_pd[\"Date\"][greatest_location]"
   ]
  },
  {
   "cell_type": "code",
   "execution_count": 9,
   "metadata": {
    "collapsed": true
   },
   "outputs": [],
   "source": [
    "greatest_dec = max(differences_list)\n",
    "greatest_decrease = int(greatest_dec)\n",
    "\n",
    "for value in differences_list:\n",
    "    if greatest_decrease == value:\n",
    "        lowest_location = differences_list.index(greatest_decrease)\n",
    "date_lowest = datafile_pd[\"Date\"][lowest_location]"
   ]
  },
  {
   "cell_type": "code",
   "execution_count": 10,
   "metadata": {},
   "outputs": [
    {
     "data": {
      "text/plain": [
       "11608.9"
      ]
     },
     "execution_count": 10,
     "metadata": {},
     "output_type": "execute_result"
    }
   ],
   "source": [
    "change = Revenue.rolling(window = 2, min_periods = 0).mean().mean()\n",
    "average_change = round((change/(number_of_months -1)), 2)\n",
    "average_change\n",
    "#average_change = round(total_revenue/number_of_months, 2)"
   ]
  },
  {
   "cell_type": "code",
   "execution_count": 11,
   "metadata": {},
   "outputs": [
    {
     "name": "stdout",
     "output_type": "stream",
     "text": [
      " Financial Analysis\n",
      " --------------------------------------------------\n",
      " Total Months: 42\n",
      " Total Revenue: 18971412\n",
      " Average Revenue Change: 11608.9\n",
      " Greatest Increase in Revenue: 16-Jan ($1837235)\n",
      " Greatest Decrease in Revenue: 14-Jul ($-1779747)\n"
     ]
    }
   ],
   "source": [
    "al1 = \"Financial Analysis\"\n",
    "al2 = \"--------------------------------------------------\"\n",
    "al3 = \"Total Months: \" + str(number_of_months)\n",
    "al4 = \"Total Revenue: \" + str(total_revenue)\n",
    "al5 = \"Average Revenue Change: \" + str(average_change)\n",
    "al6 = \"Greatest Increase in Revenue: \" + str(date_greatest) + \" ($\" + str(-(greatest_increase)) + \")\"\n",
    "al7 = \"Greatest Decrease in Revenue: \" + str(date_lowest) + \" ($\" + str(-(greatest_decrease)) + \")\"\n",
    "\n",
    "output = (f\" {al1}\\n {al2}\\n {al3}\\n {al4}\\n {al5}\\n {al6}\\n {al7}\")\n",
    "print (output)\n",
    "f = open('output.txt', 'wt')\n",
    "f.write (output)\n",
    "f.close()"
   ]
  },
  {
   "cell_type": "code",
   "execution_count": null,
   "metadata": {
    "collapsed": true
   },
   "outputs": [],
   "source": []
  }
 ],
 "metadata": {
  "kernelspec": {
   "display_name": "Python 3",
   "language": "python",
   "name": "python3"
  },
  "language_info": {
   "codemirror_mode": {
    "name": "ipython",
    "version": 3
   },
   "file_extension": ".py",
   "mimetype": "text/x-python",
   "name": "python",
   "nbconvert_exporter": "python",
   "pygments_lexer": "ipython3",
   "version": "3.6.7"
  }
 },
 "nbformat": 4,
 "nbformat_minor": 2
}
