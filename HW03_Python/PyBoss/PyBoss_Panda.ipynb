{
 "cells": [
  {
   "cell_type": "code",
   "execution_count": 1,
   "metadata": {
    "collapsed": true
   },
   "outputs": [],
   "source": [
    "## OPTION #3.  Return the following values:\n",
    "    # The Name column should be split into separated First Name and Last Name columns\n",
    "    # The DOB data should be re-written int DD/MM/YYYY format\n",
    "    # The SSN data should be re-written such that the first five numbers are hidden from view\n",
    "    # The State data should be re-written as simple two-letter abbreviations."
   ]
  },
  {
   "cell_type": "code",
   "execution_count": 2,
   "metadata": {
    "collapsed": true
   },
   "outputs": [],
   "source": [
    "import pandas as pd"
   ]
  },
  {
   "cell_type": "code",
   "execution_count": 3,
   "metadata": {
    "collapsed": true
   },
   "outputs": [],
   "source": [
    "def pyboss():\n",
    "    datafile = input(\"What file would you like to evaluate? (format: raw_data/employee_datax.csv)\")\n",
    "    # Substitute \"x\" with number.\n",
    "    return datafile"
   ]
  },
  {
   "cell_type": "code",
   "execution_count": 4,
   "metadata": {},
   "outputs": [
    {
     "name": "stdout",
     "output_type": "stream",
     "text": [
      "What file would you like to evaluate? (format: raw_data/employee_datax.csv)raw_data/employee_data1.csv\n"
     ]
    }
   ],
   "source": [
    "datafile = pyboss()\n",
    "df_original = pd.read_csv(datafile)"
   ]
  },
  {
   "cell_type": "code",
   "execution_count": 5,
   "metadata": {
    "collapsed": true
   },
   "outputs": [],
   "source": [
    "names = df_original[\"Name\"]\n",
    "first_name = []\n",
    "last_name = []\n",
    "\n",
    "for name in names:\n",
    "    name_parts = name.split(\" \")\n",
    "    first_name.append(name_parts[0])\n",
    "    last_name.append(name_parts[1])\n",
    "    \n",
    "df_original[\"First Name\"] = first_name\n",
    "df_original[\"Last Name\"] = last_name"
   ]
  },
  {
   "cell_type": "code",
   "execution_count": 6,
   "metadata": {
    "collapsed": true
   },
   "outputs": [],
   "source": [
    "DOB = df_original[\"DOB\"]\n",
    "dd = []\n",
    "mm = []\n",
    "yyyy = []\n",
    "new_DOB = []\n",
    "\n",
    "for date in DOB:\n",
    "    date_parts = date.split(\"-\")\n",
    "    mm.append(date_parts[1])\n",
    "    dd.append(date_parts[2])\n",
    "    yyyy.append(date_parts[0])\n",
    "\n",
    "for date in range(len(DOB)):\n",
    "    put_together = str(dd[date]) + \"-\" + str(mm[date]) + \"-\" + str(yyyy[date])\n",
    "    new_DOB.append(put_together)\n",
    "    \n",
    "df_original[\"DOB\"] = new_DOB"
   ]
  },
  {
   "cell_type": "code",
   "execution_count": 7,
   "metadata": {
    "collapsed": true
   },
   "outputs": [],
   "source": [
    "SSN = df_original[\"SSN\"]\n",
    "first_ssn = []\n",
    "second_ssn = []\n",
    "third_ssn = []\n",
    "formatted_ssn = []\n",
    "\n",
    "for number in SSN:\n",
    "    ssn_parts = number.split(\"-\")\n",
    "    sub1 = ssn_parts[0]\n",
    "    sub1 = \"***\"\n",
    "    first_ssn.append(sub1)\n",
    "    sub2 = ssn_parts[1]\n",
    "    sub2 = \"**\"\n",
    "    second_ssn.append(sub2)\n",
    "    third_ssn.append(ssn_parts[2])\n",
    "for number in range(len(SSN)):\n",
    "    put_together_ssn = str(first_ssn[number]) + \"-\" + str(second_ssn[number]) + \"-\" + str(third_ssn[number])\n",
    "    formatted_ssn.append(put_together_ssn)\n",
    "\n",
    "df_original[\"SSN\"] = formatted_ssn"
   ]
  },
  {
   "cell_type": "code",
   "execution_count": 8,
   "metadata": {
    "collapsed": true,
    "scrolled": true
   },
   "outputs": [],
   "source": [
    "state = df_original[\"State\"]\n",
    "state_conversions = {\n",
    "    'Alabama': 'AL',\n",
    "    'Alaska': 'AK',\n",
    "    'Arizona': 'AZ',\n",
    "    'Arkansas': 'AR',\n",
    "    'California': 'CA',\n",
    "    'Colorado': 'CO',\n",
    "    'Connecticut': 'CT',\n",
    "    'Delaware': 'DE',\n",
    "    'Florida': 'FL',\n",
    "    'Georgia': 'GA',\n",
    "    'Hawaii': 'HI',\n",
    "    'Idaho': 'ID',\n",
    "    'Illinois': 'IL',\n",
    "    'Indiana': 'IN',\n",
    "    'Iowa': 'IA',\n",
    "    'Kansas': 'KS',\n",
    "    'Kentucky': 'KY',\n",
    "    'Louisiana': 'LA',\n",
    "    'Maine': 'ME',\n",
    "    'Maryland': 'MD',\n",
    "    'Massachusetts': 'MA',\n",
    "    'Michigan': 'MI',\n",
    "    'Minnesota': 'MN',\n",
    "    'Mississippi': 'MS',\n",
    "    'Missouri': 'MO',\n",
    "    'Montana': 'MT',\n",
    "    'Nebraska': 'NE',\n",
    "    'Nevada': 'NV',\n",
    "    'New Hampshire': 'NH',\n",
    "    'New Jersey': 'NJ',\n",
    "    'New Mexico': 'NM',\n",
    "    'New York': 'NY',\n",
    "    'North Carolina': 'NC',\n",
    "    'North Dakota': 'ND',\n",
    "    'Ohio': 'OH',\n",
    "    'Oklahoma': 'OK',\n",
    "    'Oregon': 'OR',\n",
    "    'Pennsylvania': 'PA',\n",
    "    'Rhode Island': 'RI',\n",
    "    'South Carolina': 'SC',\n",
    "    'South Dakota': 'SD',\n",
    "    'Tennessee': 'TN',\n",
    "    'Texas': 'TX',\n",
    "    'Utah': 'UT',\n",
    "    'Vermont': 'VT',\n",
    "    'Virginia': 'VA',\n",
    "    'Washington': 'WA',\n",
    "    'West Virginia': 'WV',\n",
    "    'Wisconsin': 'WI',\n",
    "    'Wyoming': 'WY',\n",
    "}\n",
    "\n",
    "abbv = []\n",
    "for name in state:\n",
    "    for key, value in state_conversions.items():\n",
    "        if name == key:\n",
    "            abbv.append(value)\n",
    "df_original[\"State\"] = abbv"
   ]
  },
  {
   "cell_type": "code",
   "execution_count": 9,
   "metadata": {
    "collapsed": true
   },
   "outputs": [],
   "source": [
    "organized_list = df_original[[\"Emp ID\", \"First Name\", \"Last Name\", \"DOB\", \"SSN\", \"State\"]]\n",
    "organized_list.to_csv(\"raw_data/updated.csv\", index = False, header = True)"
   ]
  }
 ],
 "metadata": {
  "kernelspec": {
   "display_name": "Python [conda env:PythonData]",
   "language": "python",
   "name": "conda-env-PythonData-py"
  },
  "language_info": {
   "codemirror_mode": {
    "name": "ipython",
    "version": 3
   },
   "file_extension": ".py",
   "mimetype": "text/x-python",
   "name": "python",
   "nbconvert_exporter": "python",
   "pygments_lexer": "ipython3",
   "version": "3.6.3"
  }
 },
 "nbformat": 4,
 "nbformat_minor": 2
}
