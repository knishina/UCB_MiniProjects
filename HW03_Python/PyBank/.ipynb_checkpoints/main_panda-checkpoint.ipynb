{
 "cells": [
  {
   "cell_type": "code",
   "execution_count": 12,
   "metadata": {
    "collapsed": true
   },
   "outputs": [],
   "source": [
    "## OPTION #1.  Return the following values:\n",
    "\t# The total number of months included in the dataset.\n",
    "\t# The total amount of revenue gained over the entire period.\n",
    "\t# The average change in revenue between months over the entire period.\n",
    "\t# The greatest increase in revenue (date and amount) over the entire period.\n",
    "\t# The greatest decrease in revenue (date and amount) over the entire period."
   ]
  },
  {
   "cell_type": "code",
   "execution_count": 13,
   "metadata": {
    "collapsed": true
   },
   "outputs": [],
   "source": [
    "import pandas as pd"
   ]
  },
  {
   "cell_type": "code",
   "execution_count": 14,
   "metadata": {
    "collapsed": true
   },
   "outputs": [],
   "source": [
    "datafile = \"raw_data/budget_data_2.csv\"\n",
    "datafile_pd = pd.read_csv(datafile)"
   ]
  },
  {
   "cell_type": "code",
   "execution_count": 15,
   "metadata": {
    "collapsed": true
   },
   "outputs": [],
   "source": [
    "new = datafile_pd[\"Date\"].unique()\n",
    "number_of_months = len(new)"
   ]
  },
  {
   "cell_type": "code",
   "execution_count": 16,
   "metadata": {
    "collapsed": true
   },
   "outputs": [],
   "source": [
    "total_revenue = int(datafile_pd[\"Revenue\"].sum())"
   ]
  },
  {
   "cell_type": "code",
   "execution_count": 17,
   "metadata": {
    "collapsed": true
   },
   "outputs": [],
   "source": [
    "average_change = round(total_revenue/number_of_months, 2)"
   ]
  },
  {
   "cell_type": "code",
   "execution_count": 18,
   "metadata": {
    "collapsed": true,
    "scrolled": true
   },
   "outputs": [],
   "source": [
    "Revenue = datafile_pd[\"Revenue\"]\n",
    "differences_list = [0]\n",
    "for index, element in enumerate(Revenue):\n",
    "    current_value = element\n",
    "    next_value = Revenue[(index + 1) % len(Revenue)]\n",
    "    difference = current_value - next_value\n",
    "    differences_list.append(difference)"
   ]
  },
  {
   "cell_type": "code",
   "execution_count": 19,
   "metadata": {
    "collapsed": true
   },
   "outputs": [],
   "source": [
    "greatest_inc = min(differences_list)\n",
    "greatest_increase = int(greatest_inc)\n",
    "\n",
    "for value in differences_list:\n",
    "    if greatest_increase == value:\n",
    "        greatest_location = differences_list.index(greatest_increase)\n",
    "date_greatest = datafile_pd[\"Date\"][greatest_location]"
   ]
  },
  {
   "cell_type": "code",
   "execution_count": 20,
   "metadata": {
    "collapsed": true
   },
   "outputs": [],
   "source": [
    "greatest_dec = max(differences_list)\n",
    "greatest_decrease = int(greatest_dec)\n",
    "\n",
    "for value in differences_list:\n",
    "    if greatest_decrease == value:\n",
    "        lowest_location = differences_list.index(greatest_decrease)\n",
    "date_lowest = datafile_pd[\"Date\"][lowest_location]"
   ]
  },
  {
   "cell_type": "code",
   "execution_count": 21,
   "metadata": {},
   "outputs": [
    {
     "name": "stdout",
     "output_type": "stream",
     "text": [
      "Financial Analysis\n",
      "--------------------------------------------------\n",
      "Total Months: 86\n",
      "Total Revenue: 36973911\n",
      "Average Revenue Change: 429929.2\n",
      "Greatest Increase in Revenue: Jul-2014 ($1645140)\n",
      "Greatest Decrease in Revenue: Jun-2014 ($-1947745)\n"
     ]
    }
   ],
   "source": [
    "print (\"Financial Analysis\")\n",
    "print (\"--------------------------------------------------\")\n",
    "print (\"Total Months: \" + str(number_of_months))\n",
    "print (\"Total Revenue: \" + str(total_revenue))\n",
    "print (\"Average Revenue Change: \" + str(average_change))\n",
    "print (\"Greatest Increase in Revenue: \" + str(date_greatest) + \n",
    "       \" ($\" + str(-(greatest_increase)) + \")\")\n",
    "print (\"Greatest Decrease in Revenue: \" + str(date_lowest) + \n",
    "       \" ($\" + str(-(greatest_decrease)) + \")\")"
   ]
  },
  {
   "cell_type": "code",
   "execution_count": null,
   "metadata": {
    "collapsed": true
   },
   "outputs": [],
   "source": []
  }
 ],
 "metadata": {
  "kernelspec": {
   "display_name": "Python [conda env:PythonData]",
   "language": "python",
   "name": "conda-env-PythonData-py"
  },
  "language_info": {
   "codemirror_mode": {
    "name": "ipython",
    "version": 3
   },
   "file_extension": ".py",
   "mimetype": "text/x-python",
   "name": "python",
   "nbconvert_exporter": "python",
   "pygments_lexer": "ipython3",
   "version": "3.6.3"
  }
 },
 "nbformat": 4,
 "nbformat_minor": 2
}
