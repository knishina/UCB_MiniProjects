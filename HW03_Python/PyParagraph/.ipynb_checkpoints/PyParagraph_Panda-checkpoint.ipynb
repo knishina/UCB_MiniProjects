{
 "cells": [
  {
   "cell_type": "code",
   "execution_count": 1,
   "metadata": {
    "collapsed": true
   },
   "outputs": [],
   "source": [
    "## OPTION #4. Return the following values.\n",
    "    # Approximate word count\n",
    "    # Approximate sentence count\n",
    "    # Approximate letter count (per word)\n",
    "    # Average sentence length (in words)"
   ]
  },
  {
   "cell_type": "code",
   "execution_count": 2,
   "metadata": {},
   "outputs": [
    {
     "data": {
      "text/plain": [
       "'Empty DataFrame\\nColumns: [Gene expression in mammals is regulated by noncoding elements that can affect physiology and disease, yet the functions and target genes of most noncoding elements remain unknown. We present a high-throughput approach that uses clustered regularly interspaced short palindromic repeats (CRISPR) interference (CRISPRi) to discover regulatory elements and identify their target genes. We assess >1 megabase of sequence in the vicinity of two essential transcription factors, MYC and GATA1, and identify nine distal enhancers that control gene expression and cellular proliferation. Quantitative features of chromatin state and chromosome conformation distinguish the seven enhancers that regulate MYC from other elements that do not, suggesting a strategy for predicting enhancer–promoter connectivity. This CRISPRi-based approach can be applied to dissect transcriptional networks and interpret the contributions of noncoding genetic variation to human disease.]\\nIndex: []'"
      ]
     },
     "execution_count": 2,
     "metadata": {},
     "output_type": "execute_result"
    }
   ],
   "source": [
    "import pandas as pd\n",
    "sentence = str(pd.read_csv(\"raw_data/paragraph_1.txt\", delimiter = \"\\t\"))\n",
    "#I don't know how to make the paragraph_2.txt file work.  Don't know how to remove \"\\n\" without\n",
    "# making a mess.  This code only works for a solid paragraph.\n",
    "sentence"
   ]
  },
  {
   "cell_type": "code",
   "execution_count": 3,
   "metadata": {
    "collapsed": true
   },
   "outputs": [],
   "source": [
    "remove_periods = sentence.split(\".\")\n",
    "\n",
    "number_sentences = len(remove_periods) -1\n",
    "\n",
    "words = sentence.split()\n",
    "number_words = len(words)\n",
    "\n",
    "average_sentence_length = round((number_words/number_sentences), 2)\n",
    "\n",
    "remove_commas = ([s.replace(\",\", \"\") for s in remove_periods])\n",
    "remove_spaces = ([s.replace(\" \", \"\") for s in remove_commas])\n",
    "\n",
    "count = []\n",
    "add_it_up = 0\n",
    "for letter in remove_spaces:\n",
    "    p = len(letter)\n",
    "    add_it_up = add_it_up + p\n",
    "    \n",
    "letter_count = round((add_it_up/number_words), 2)"
   ]
  },
  {
   "cell_type": "code",
   "execution_count": 4,
   "metadata": {},
   "outputs": [
    {
     "name": "stdout",
     "output_type": "stream",
     "text": [
      "Word Count: 135\n",
      "Sentence Count: 5\n",
      "Letter Count (per word): 6.34\n",
      "Sentence Length (per word): 27.0\n"
     ]
    }
   ],
   "source": [
    "print (\"Word Count: \" + str(number_words))\n",
    "print (\"Sentence Count: \" + str(number_sentences))\n",
    "print (\"Letter Count (per word): \" + str(letter_count))\n",
    "print (\"Sentence Length (per word): \" + str(average_sentence_length))"
   ]
  }
 ],
 "metadata": {
  "kernelspec": {
   "display_name": "Python [conda env:PythonData]",
   "language": "python",
   "name": "conda-env-PythonData-py"
  },
  "language_info": {
   "codemirror_mode": {
    "name": "ipython",
    "version": 3
   },
   "file_extension": ".py",
   "mimetype": "text/x-python",
   "name": "python",
   "nbconvert_exporter": "python",
   "pygments_lexer": "ipython3",
   "version": "3.6.3"
  }
 },
 "nbformat": 4,
 "nbformat_minor": 2
}
