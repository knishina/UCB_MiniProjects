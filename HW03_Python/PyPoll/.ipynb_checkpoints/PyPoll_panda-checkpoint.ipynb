{
 "cells": [
  {
   "cell_type": "code",
   "execution_count": 3,
   "metadata": {
    "collapsed": true
   },
   "outputs": [],
   "source": [
    "## OPTION #2.  Return the following values:\n",
    "    # The total number of votes cast\n",
    "    # A complete list of candidates who received votes\n",
    "    # The percentage of votes each candidate won\n",
    "    # The total number of votes each candidate won\n",
    "    # The winner of the election based on popular vote"
   ]
  },
  {
   "cell_type": "code",
   "execution_count": 4,
   "metadata": {
    "collapsed": true
   },
   "outputs": [],
   "source": [
    "import pandas as pd"
   ]
  },
  {
   "cell_type": "code",
   "execution_count": 5,
   "metadata": {
    "collapsed": true,
    "scrolled": true
   },
   "outputs": [],
   "source": [
    "def pypoll():\n",
    "    datafile = input(\"What file would you like to evaluate? (format: raw_data/election_data_x.csv)\")\n",
    "    # Substitute \"x\" with number.\n",
    "    return datafile"
   ]
  },
  {
   "cell_type": "code",
   "execution_count": 6,
   "metadata": {},
   "outputs": [
    {
     "name": "stdout",
     "output_type": "stream",
     "text": [
      "What file would you like to evaluate? (format: raw_data/election_data_x.csv)raw_data/Election_data_1.csv\n"
     ]
    }
   ],
   "source": [
    "datafile = pypoll()\n",
    "df_pd = pd.read_csv(datafile)"
   ]
  },
  {
   "cell_type": "code",
   "execution_count": 7,
   "metadata": {
    "collapsed": true
   },
   "outputs": [],
   "source": [
    "unique_votes = df_pd[\"Voter ID\"].unique()\n",
    "total_votes = len(unique_votes)"
   ]
  },
  {
   "cell_type": "code",
   "execution_count": 8,
   "metadata": {
    "collapsed": true
   },
   "outputs": [],
   "source": [
    "candidates = list(df_pd[\"Candidate\"].unique())\n",
    "number_in_list = len(candidates)"
   ]
  },
  {
   "cell_type": "code",
   "execution_count": 9,
   "metadata": {
    "collapsed": true
   },
   "outputs": [],
   "source": [
    "count = list(df_pd[\"Candidate\"].value_counts())"
   ]
  },
  {
   "cell_type": "code",
   "execution_count": 10,
   "metadata": {
    "collapsed": true
   },
   "outputs": [],
   "source": [
    "percentages = []\n",
    "for number in count:\n",
    "    percent = round(((number/total_votes) * 100), 2)\n",
    "    percentages.append(percent)"
   ]
  },
  {
   "cell_type": "code",
   "execution_count": 11,
   "metadata": {
    "collapsed": true
   },
   "outputs": [],
   "source": [
    "highest_percentage = max(percentages)\n",
    "\n",
    "for number in percentages:\n",
    "    if highest_percentage == number:\n",
    "        index = percentages.index(number)\n",
    "        winner = candidates[index]"
   ]
  },
  {
   "cell_type": "code",
   "execution_count": 13,
   "metadata": {},
   "outputs": [
    {
     "name": "stdout",
     "output_type": "stream",
     "text": [
      " Election Results\n",
      " --------------------------------------\n",
      " Total Votes: 803000\n",
      " --------------------------------------\n",
      " Vestal: 48.0%  (385440) \n",
      "Torres: 44.0%  (353320) \n",
      "Seth: 5.0%  (40150) \n",
      "Cordin: 3.0%  (24090) \n",
      " --------------------------------------\n",
      " Winner: Vestal\n",
      "\n"
     ]
    }
   ],
   "source": [
    "a = \"Election Results\"\n",
    "b = \"--------------------------------------\"\n",
    "c =  \"Total Votes: \" + str(total_votes)\n",
    "d = \"--------------------------------------\"\n",
    "\n",
    "foo = []\n",
    "for number in range(number_in_list):\n",
    "    foo.append(candidates[number] + \": \" + str(percentages[number]) +\n",
    "           \"%  (\" + str(count[number]) + \") \")\n",
    "e = \"\\n\".join(foo)\n",
    "f = \"--------------------------------------\"\n",
    "g = \"Winner: \" + winner\n",
    "\n",
    "output = (f\" {a}\\n {b}\\n {c}\\n {d}\\n {e}\\n {f}\\n {g}\\n\")\n",
    "print (output)\n",
    "f = open('output.txt', 'wt')\n",
    "f.write (output)\n",
    "f.close()"
   ]
  }
 ],
 "metadata": {
  "kernelspec": {
   "display_name": "Python [conda env:PythonData]",
   "language": "python",
   "name": "conda-env-PythonData-py"
  },
  "language_info": {
   "codemirror_mode": {
    "name": "ipython",
    "version": 3
   },
   "file_extension": ".py",
   "mimetype": "text/x-python",
   "name": "python",
   "nbconvert_exporter": "python",
   "pygments_lexer": "ipython3",
   "version": "3.6.3"
  }
 },
 "nbformat": 4,
 "nbformat_minor": 2
}
